{
 "cells": [
  {
   "cell_type": "code",
   "execution_count": 10,
   "metadata": {},
   "outputs": [],
   "source": [
    "import librosa\n",
    "from preprocess import wavDecode\n",
    "import numpy as np\n",
    "import tensorflow as tf\n",
    "import os\n",
    "tf.enable_eager_execution()"
   ]
  },
  {
   "cell_type": "code",
   "execution_count": 11,
   "metadata": {},
   "outputs": [],
   "source": [
    "def _bytes_feature(value):\n",
    "    return tf.train.Feature(bytes_list=tf.train.BytesList(value=[value]))\n",
    "def _floats_feature(value):\n",
    "    return tf.train.Feature(float_list=tf.train.FloatList(value=value))\n",
    "    #return tf.train.Feature(float_list=tf.train.FloatList(value=[value]))\n",
    "def _int64_feature(value):\n",
    "    return tf.train.Feature(int64_list=tf.train.Int64List(value=[value]))"
   ]
  },
  {
   "cell_type": "code",
   "execution_count": 6,
   "metadata": {},
   "outputs": [],
   "source": [
    "def parse_func(s_example):\n",
    "    features = {\n",
    "               'coeff':tf.FixedLenFeature((20,1750,1),tf.float32),\n",
    "                'word': tf.FixedLenFeature((), tf.string)\n",
    "                }\n",
    "    example = tf.parse_single_example(s_example, features=features)\n",
    "    return example\n",
    "\n",
    "def imgSerialization (file_path,label):\n",
    "    coeff= wavDecode(file_path)\n",
    "    example = tf.train.Example(features=tf.train.Features(feature={\n",
    "        'word': _bytes_feature(label.encode('utf-8')),\n",
    "        'coeff':_floats_feature(coeff.reshape(-1)),\n",
    "        }))\n",
    "    return example.SerializeToString()"
   ]
  },
  {
   "cell_type": "code",
   "execution_count": 7,
   "metadata": {},
   "outputs": [
    {
     "name": "stdout",
     "output_type": "stream",
     "text": [
      "WARNING:tensorflow:From /usr/local/lib/python3.5/dist-packages/tensorflow/python/data/ops/iterator_ops.py:532: colocate_with (from tensorflow.python.framework.ops) is deprecated and will be removed in a future version.\n",
      "Instructions for updating:\n",
      "Colocations handled automatically by placer.\n"
     ]
    }
   ],
   "source": [
    "DATA_PATH = \"./data/\"\n",
    "for label in os.listdir(DATA_PATH):\n",
    "    directory = os.path.join(DATA_PATH,label)\n",
    "    writer = tf.python_io.TFRecordWriter(label+'.tfrecords')\n",
    "    files = tf.data.Dataset.list_files(file_pattern=directory +'/*.wav')\n",
    "    for file in files:\n",
    "        s_example = imgSerialization(file.numpy().decode('utf-8'),label)\n",
    "        writer.write(s_example)\n",
    "    writer.close()"
   ]
  },
  {
   "cell_type": "code",
   "execution_count": 13,
   "metadata": {},
   "outputs": [],
   "source": [
    "data = tf.data.TFRecordDataset(['bed.tfrecords','cat.tfrecords','happy.tfrecords']).shuffle(20000).map(parse_func).take(100)\n",
    "#iterator = data.make_one_shot_iterator()"
   ]
  },
  {
   "cell_type": "code",
   "execution_count": 14,
   "metadata": {
    "scrolled": false
   },
   "outputs": [
    {
     "name": "stdout",
     "output_type": "stream",
     "text": [
      "b'bed' (20, 1750, 1)\n",
      "b'cat' (20, 1750, 1)\n",
      "b'bed' (20, 1750, 1)\n",
      "b'bed' (20, 1750, 1)\n",
      "b'cat' (20, 1750, 1)\n",
      "b'happy' (20, 1750, 1)\n",
      "b'bed' (20, 1750, 1)\n",
      "b'cat' (20, 1750, 1)\n",
      "b'bed' (20, 1750, 1)\n",
      "b'happy' (20, 1750, 1)\n",
      "b'bed' (20, 1750, 1)\n",
      "b'bed' (20, 1750, 1)\n",
      "b'cat' (20, 1750, 1)\n",
      "b'bed' (20, 1750, 1)\n",
      "b'bed' (20, 1750, 1)\n",
      "b'cat' (20, 1750, 1)\n",
      "b'cat' (20, 1750, 1)\n",
      "b'cat' (20, 1750, 1)\n",
      "b'happy' (20, 1750, 1)\n",
      "b'bed' (20, 1750, 1)\n",
      "b'bed' (20, 1750, 1)\n",
      "b'happy' (20, 1750, 1)\n",
      "b'happy' (20, 1750, 1)\n",
      "b'happy' (20, 1750, 1)\n",
      "b'happy' (20, 1750, 1)\n",
      "b'bed' (20, 1750, 1)\n",
      "b'bed' (20, 1750, 1)\n",
      "b'bed' (20, 1750, 1)\n",
      "b'cat' (20, 1750, 1)\n",
      "b'cat' (20, 1750, 1)\n",
      "b'happy' (20, 1750, 1)\n",
      "b'bed' (20, 1750, 1)\n",
      "b'bed' (20, 1750, 1)\n",
      "b'cat' (20, 1750, 1)\n",
      "b'cat' (20, 1750, 1)\n",
      "b'bed' (20, 1750, 1)\n",
      "b'cat' (20, 1750, 1)\n",
      "b'happy' (20, 1750, 1)\n",
      "b'happy' (20, 1750, 1)\n",
      "b'bed' (20, 1750, 1)\n",
      "b'bed' (20, 1750, 1)\n",
      "b'happy' (20, 1750, 1)\n",
      "b'happy' (20, 1750, 1)\n",
      "b'happy' (20, 1750, 1)\n",
      "b'bed' (20, 1750, 1)\n",
      "b'cat' (20, 1750, 1)\n",
      "b'bed' (20, 1750, 1)\n",
      "b'bed' (20, 1750, 1)\n",
      "b'happy' (20, 1750, 1)\n",
      "b'happy' (20, 1750, 1)\n",
      "b'bed' (20, 1750, 1)\n",
      "b'cat' (20, 1750, 1)\n",
      "b'cat' (20, 1750, 1)\n",
      "b'cat' (20, 1750, 1)\n",
      "b'happy' (20, 1750, 1)\n",
      "b'bed' (20, 1750, 1)\n",
      "b'cat' (20, 1750, 1)\n",
      "b'happy' (20, 1750, 1)\n",
      "b'cat' (20, 1750, 1)\n",
      "b'bed' (20, 1750, 1)\n",
      "b'happy' (20, 1750, 1)\n",
      "b'bed' (20, 1750, 1)\n",
      "b'cat' (20, 1750, 1)\n",
      "b'cat' (20, 1750, 1)\n",
      "b'happy' (20, 1750, 1)\n",
      "b'bed' (20, 1750, 1)\n",
      "b'happy' (20, 1750, 1)\n",
      "b'cat' (20, 1750, 1)\n",
      "b'cat' (20, 1750, 1)\n",
      "b'happy' (20, 1750, 1)\n",
      "b'bed' (20, 1750, 1)\n",
      "b'bed' (20, 1750, 1)\n",
      "b'happy' (20, 1750, 1)\n",
      "b'cat' (20, 1750, 1)\n",
      "b'bed' (20, 1750, 1)\n",
      "b'bed' (20, 1750, 1)\n",
      "b'happy' (20, 1750, 1)\n",
      "b'cat' (20, 1750, 1)\n",
      "b'cat' (20, 1750, 1)\n",
      "b'happy' (20, 1750, 1)\n",
      "b'happy' (20, 1750, 1)\n",
      "b'bed' (20, 1750, 1)\n",
      "b'happy' (20, 1750, 1)\n",
      "b'cat' (20, 1750, 1)\n",
      "b'cat' (20, 1750, 1)\n",
      "b'cat' (20, 1750, 1)\n",
      "b'cat' (20, 1750, 1)\n",
      "b'bed' (20, 1750, 1)\n",
      "b'bed' (20, 1750, 1)\n",
      "b'bed' (20, 1750, 1)\n",
      "b'happy' (20, 1750, 1)\n",
      "b'bed' (20, 1750, 1)\n",
      "b'cat' (20, 1750, 1)\n",
      "b'cat' (20, 1750, 1)\n",
      "b'cat' (20, 1750, 1)\n",
      "b'cat' (20, 1750, 1)\n",
      "b'bed' (20, 1750, 1)\n",
      "b'happy' (20, 1750, 1)\n",
      "b'bed' (20, 1750, 1)\n",
      "b'cat' (20, 1750, 1)\n"
     ]
    }
   ],
   "source": [
    "for sample in data:\n",
    "    word = sample['word'].numpy()\n",
    "    coeff= sample['coeff'].numpy()\n",
    "    #wave = sample['wave'].numpy()\n",
    "    print(word,coeff.shape)"
   ]
  },
  {
   "cell_type": "code",
   "execution_count": null,
   "metadata": {},
   "outputs": [],
   "source": []
  }
 ],
 "metadata": {
  "kernelspec": {
   "display_name": "Python 3",
   "language": "python",
   "name": "python3"
  },
  "language_info": {
   "codemirror_mode": {
    "name": "ipython",
    "version": 3
   },
   "file_extension": ".py",
   "mimetype": "text/x-python",
   "name": "python",
   "nbconvert_exporter": "python",
   "pygments_lexer": "ipython3",
   "version": "3.5.2"
  }
 },
 "nbformat": 4,
 "nbformat_minor": 2
}
