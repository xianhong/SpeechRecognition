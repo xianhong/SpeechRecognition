{
 "cells": [
  {
   "cell_type": "code",
   "execution_count": 1,
   "metadata": {},
   "outputs": [],
   "source": [
    "from preprocess import *\n",
    "import tensorflow as tf\n",
    "import tensorflow.keras as keras\n",
    "from tensorflow.keras.models import Sequential\n",
    "from tensorflow.keras.layers import Dense, Dropout, Flatten, Conv2D, MaxPooling2D\n",
    "tf.enable_eager_execution()\n",
    "\n",
    "# Second dimension of the feature is dim2\n",
    "feature_dim_2 = 11\n",
    "\n",
    "# # Feature dimension\n",
    "feature_dim_1 = 20\n",
    "channel = 1\n",
    "\n",
    "verbose = 1\n",
    "num_classes = 3"
   ]
  },
  {
   "cell_type": "code",
   "execution_count": 2,
   "metadata": {},
   "outputs": [],
   "source": [
    "word=tuple([\"bed\", \"cat\",\"happy\"])"
   ]
  },
  {
   "cell_type": "code",
   "execution_count": 3,
   "metadata": {},
   "outputs": [],
   "source": [
    "def parse_func(s_example):\n",
    "    features = {\n",
    "                'mfcc2':tf.FixedLenFeature((20,11,1),tf.float32),\n",
    "                'word': tf.FixedLenFeature((), tf.string)\n",
    "                }\n",
    "    example = tf.parse_single_example(s_example, features=features)\n",
    "    return example"
   ]
  },
  {
   "cell_type": "code",
   "execution_count": 4,
   "metadata": {},
   "outputs": [],
   "source": [
    "mapping_strings = tf.constant([\"bed\", \"cat\", \"happy\"])\n",
    "table = tf.contrib.lookup.index_table_from_tensor(mapping=mapping_strings)\n",
    "\n",
    "def map2hot_vector(feature):\n",
    "    word_string = feature.pop('word')\n",
    "    word_index = table.lookup(word_string)\n",
    "    return (feature.pop('mfcc2'),tf.one_hot(word_index,3,dtype=tf.float32))\n"
   ]
  },
  {
   "cell_type": "code",
   "execution_count": 5,
   "metadata": {},
   "outputs": [],
   "source": [
    "data = tf.data.Dataset.list_files('*.tfrecords').interleave(\n",
    "        lambda filename:tf.data.TFRecordDataset(filename),cycle_length=3).\\\n",
    "        shuffle(2000).map(parse_func).map(map2hot_vector)\n",
    "train_data = data.take(4000).repeat().batch(64)\n",
    "val_data = data.skip(4000).repeat().batch(64)"
   ]
  },
  {
   "cell_type": "code",
   "execution_count": 6,
   "metadata": {},
   "outputs": [],
   "source": [
    "def get_model():\n",
    "    model = Sequential()\n",
    "    model.add(Conv2D(32, kernel_size=(2, 2), activation='relu', input_shape=(feature_dim_1, feature_dim_2, channel)))\n",
    "    model.add(Conv2D(48, kernel_size=(2, 2), activation='relu'))\n",
    "    model.add(Conv2D(120, kernel_size=(2, 2), activation='relu'))\n",
    "    model.add(MaxPooling2D(pool_size=(2, 2)))\n",
    "    model.add(Dropout(0.25))\n",
    "    model.add(Flatten())\n",
    "    model.add(Dense(128, activation='relu'))\n",
    "    model.add(Dropout(0.25))\n",
    "    model.add(Dense(64, activation='relu'))\n",
    "    model.add(Dropout(0.4))\n",
    "    model.add(Dense(num_classes, activation='softmax'))\n",
    "    model.compile(loss='categorical_crossentropy',\n",
    "                  #loss=keras.losses.categorical_crossentropy,\n",
    "                  optimizer=tf.train.AdamOptimizer(),\n",
    "                  #optimizer=tf.train.AdadeltaOptimizer(),\n",
    "                  metrics=['accuracy'])\n",
    "    return model\n",
    "\n",
    "# Predicts one sample\n",
    "def predict(filepath, model):\n",
    "    sample = wav2mfcc(filepath)\n",
    "    sample_reshaped = sample.reshape(1, feature_dim_1, feature_dim_2, channel)\n",
    "    \n",
    "    return word[np.argmax(model.predict(sample_reshaped))]"
   ]
  },
  {
   "cell_type": "markdown",
   "metadata": {},
   "source": [
    "# Building The Model Then Training it"
   ]
  },
  {
   "cell_type": "code",
   "execution_count": 7,
   "metadata": {},
   "outputs": [
    {
     "name": "stdout",
     "output_type": "stream",
     "text": [
      "Epoch 1/30\n",
      "64/64 [==============================] - 7s 109ms/step - loss: 1.3374 - acc: 0.4810\n",
      "Epoch 2/30\n",
      "64/64 [==============================] - 6s 99ms/step - loss: 0.5996 - acc: 0.7566\n",
      "Epoch 3/30\n",
      "64/64 [==============================] - 6s 98ms/step - loss: 0.4092 - acc: 0.8455\n",
      "Epoch 4/30\n",
      "64/64 [==============================] - 6s 94ms/step - loss: 0.3104 - acc: 0.8928\n",
      "Epoch 5/30\n",
      "64/64 [==============================] - 6s 90ms/step - loss: 0.2669 - acc: 0.9106\n",
      "Epoch 6/30\n",
      "64/64 [==============================] - 7s 106ms/step - loss: 0.2175 - acc: 0.9290\n",
      "Epoch 7/30\n",
      "64/64 [==============================] - 6s 99ms/step - loss: 0.1725 - acc: 0.9407\n",
      "Epoch 8/30\n",
      "64/64 [==============================] - 7s 105ms/step - loss: 0.1556 - acc: 0.9507\n",
      "Epoch 9/30\n",
      "64/64 [==============================] - 7s 102ms/step - loss: 0.1206 - acc: 0.9607\n",
      "Epoch 10/30\n",
      "64/64 [==============================] - 6s 87ms/step - loss: 0.1223 - acc: 0.9548\n",
      "Epoch 11/30\n",
      "64/64 [==============================] - 7s 110ms/step - loss: 0.1092 - acc: 0.9622\n",
      "Epoch 12/30\n",
      "64/64 [==============================] - 6s 97ms/step - loss: 0.0885 - acc: 0.9731\n",
      "Epoch 13/30\n",
      "64/64 [==============================] - 7s 107ms/step - loss: 0.0744 - acc: 0.9756\n",
      "Epoch 14/30\n",
      "64/64 [==============================] - 7s 111ms/step - loss: 0.0951 - acc: 0.9690\n",
      "Epoch 15/30\n",
      "64/64 [==============================] - 6s 95ms/step - loss: 0.0977 - acc: 0.9697\n",
      "Epoch 16/30\n",
      "64/64 [==============================] - 6s 98ms/step - loss: 0.0670 - acc: 0.9778\n",
      "Epoch 17/30\n",
      "64/64 [==============================] - 6s 100ms/step - loss: 0.0615 - acc: 0.9797\n",
      "Epoch 18/30\n",
      "64/64 [==============================] - 7s 103ms/step - loss: 0.0671 - acc: 0.9766\n",
      "Epoch 19/30\n",
      "64/64 [==============================] - 6s 101ms/step - loss: 0.0603 - acc: 0.9761\n",
      "Epoch 20/30\n",
      "64/64 [==============================] - 7s 105ms/step - loss: 0.0418 - acc: 0.9866\n",
      "Epoch 21/30\n",
      "64/64 [==============================] - 7s 106ms/step - loss: 0.0525 - acc: 0.9832\n",
      "Epoch 22/30\n",
      "64/64 [==============================] - 7s 105ms/step - loss: 0.0447 - acc: 0.9873\n",
      "Epoch 23/30\n",
      "64/64 [==============================] - 7s 117ms/step - loss: 0.0496 - acc: 0.9814\n",
      "Epoch 24/30\n",
      "64/64 [==============================] - 6s 92ms/step - loss: 0.0391 - acc: 0.9875\n",
      "Epoch 25/30\n",
      "64/64 [==============================] - 6s 100ms/step - loss: 0.0363 - acc: 0.9861\n",
      "Epoch 26/30\n",
      "64/64 [==============================] - 6s 100ms/step - loss: 0.0426 - acc: 0.9880\n",
      "Epoch 27/30\n",
      "64/64 [==============================] - 6s 96ms/step - loss: 0.0394 - acc: 0.9873\n",
      "Epoch 28/30\n",
      "64/64 [==============================] - 6s 100ms/step - loss: 0.0359 - acc: 0.9885\n",
      "Epoch 29/30\n",
      "64/64 [==============================] - 6s 100ms/step - loss: 0.0203 - acc: 0.9929\n",
      "Epoch 30/30\n",
      "64/64 [==============================] - 6s 92ms/step - loss: 0.0193 - acc: 0.9929\n"
     ]
    },
    {
     "data": {
      "text/plain": [
       "<tensorflow.python.keras.callbacks.History at 0x7fe4c0186c50>"
      ]
     },
     "execution_count": 7,
     "metadata": {},
     "output_type": "execute_result"
    }
   ],
   "source": [
    "model = get_model()\n",
    "\n",
    "model.fit(train_data,epochs=30, steps_per_epoch=64,verbose=verbose)"
   ]
  },
  {
   "cell_type": "markdown",
   "metadata": {},
   "source": [
    "## Prediction"
   ]
  },
  {
   "cell_type": "code",
   "execution_count": 8,
   "metadata": {},
   "outputs": [
    {
     "name": "stdout",
     "output_type": "stream",
     "text": [
      "20/20 [==============================] - 1s 63ms/step\n"
     ]
    },
    {
     "data": {
      "text/plain": [
       "[0.003674410890380386, 1.0]"
      ]
     },
     "execution_count": 8,
     "metadata": {},
     "output_type": "execute_result"
    }
   ],
   "source": [
    "model.evaluate(val_data,steps=20)"
   ]
  },
  {
   "cell_type": "code",
   "execution_count": 9,
   "metadata": {},
   "outputs": [
    {
     "name": "stdout",
     "output_type": "stream",
     "text": [
      "cat\n",
      "bed\n",
      "bed\n",
      "happy\n"
     ]
    }
   ],
   "source": [
    "print(predict('./data/cat/1dce06e8_nohash_0.wav', model=model))\n",
    "print(predict('./data/bed/01b4757a_nohash_0.wav', model=model))\n",
    "print(predict('./data/bed/73f0c1f7_nohash_0.wav',model=model))\n",
    "print(predict('./data/happy/0b77ee66_nohash_1.wav',model=model))"
   ]
  },
  {
   "cell_type": "code",
   "execution_count": 10,
   "metadata": {},
   "outputs": [
    {
     "name": "stdout",
     "output_type": "stream",
     "text": [
      "\r",
      "1/1 [==============================] - 0s 318ms/step\n"
     ]
    },
    {
     "data": {
      "text/plain": [
       "[0.008689881302416325, 0.9980000257492065]"
      ]
     },
     "execution_count": 10,
     "metadata": {},
     "output_type": "execute_result"
    }
   ],
   "source": [
    "val_data2 = tf.data.TFRecordDataset('bed.tfrecords')\\\n",
    "        .map(parse_func).map(map2hot_vector).batch(1000)\n",
    "model.evaluate(val_data2,steps=1)"
   ]
  },
  {
   "cell_type": "code",
   "execution_count": 11,
   "metadata": {},
   "outputs": [],
   "source": [
    "import IPython.display as ipd"
   ]
  },
  {
   "cell_type": "code",
   "execution_count": 12,
   "metadata": {},
   "outputs": [
    {
     "data": {
      "text/html": [
       "\n",
       "                <audio controls=\"controls\" >\n",
       "                    <source src=\"data:audio/x-wav;base64,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\" type=\"audio/x-wav\" />\n",
       "                    Your browser does not support the audio element.\n",
       "                </audio>\n",
       "              "
      ],
      "text/plain": [
       "<IPython.lib.display.Audio object>"
      ]
     },
     "execution_count": 12,
     "metadata": {},
     "output_type": "execute_result"
    }
   ],
   "source": [
    "ipd.Audio('./data/cat/0ab3b47d_nohash_1.wav')"
   ]
  }
 ],
 "metadata": {
  "kernelspec": {
   "display_name": "Python 3",
   "language": "python",
   "name": "python3"
  },
  "language_info": {
   "codemirror_mode": {
    "name": "ipython",
    "version": 3
   },
   "file_extension": ".py",
   "mimetype": "text/x-python",
   "name": "python",
   "nbconvert_exporter": "python",
   "pygments_lexer": "ipython3",
   "version": "3.5.2"
  }
 },
 "nbformat": 4,
 "nbformat_minor": 2
}
