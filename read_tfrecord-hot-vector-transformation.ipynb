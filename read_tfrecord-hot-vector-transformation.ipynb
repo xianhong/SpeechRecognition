{
 "cells": [
  {
   "cell_type": "code",
   "execution_count": 1,
   "metadata": {},
   "outputs": [],
   "source": [
    "import librosa\n",
    "import numpy as np\n",
    "import tensorflow as tf\n",
    "tf.enable_eager_execution()"
   ]
  },
  {
   "cell_type": "code",
   "execution_count": 2,
   "metadata": {},
   "outputs": [],
   "source": [
    "max_len =11\n",
    "def parse_func(s_example):\n",
    "    features = {\n",
    "                'mfcc2':tf.FixedLenFeature((20,11),tf.float32),\n",
    "                'n_mfcc':tf.FixedLenFeature((), tf.int64),\n",
    "                'word': tf.FixedLenFeature((), tf.string)\n",
    "                }\n",
    "    example = tf.parse_single_example(s_example, features=features)\n",
    "    return example"
   ]
  },
  {
   "cell_type": "code",
   "execution_count": 3,
   "metadata": {},
   "outputs": [],
   "source": [
    "mapping_strings = tf.constant([\"bed\", \"cat\", \"happy\"])\n",
    "table = tf.contrib.lookup.index_table_from_tensor(mapping=mapping_strings)\n",
    "\n",
    "def map2hot_vector(feature):\n",
    "    word_string = feature.pop('word')\n",
    "    word_index = table.lookup(word_string)\n",
    "    feature['word_vector'] = tf.one_hot(word_index,3,dtype=tf.float32)\n",
    "    return feature"
   ]
  },
  {
   "cell_type": "code",
   "execution_count": 4,
   "metadata": {},
   "outputs": [],
   "source": [
    "data = tf.data.TFRecordDataset(['bed.tfrecords','cat.tfrecords','happy.tfrecords']).\\\n",
    "    shuffle(20000).map(parse_func).map(map2hot_vector).take(20)\n"
   ]
  },
  {
   "cell_type": "code",
   "execution_count": 5,
   "metadata": {
    "scrolled": false
   },
   "outputs": [
    {
     "name": "stdout",
     "output_type": "stream",
     "text": [
      "[1. 0. 0.] (20, 11)\n",
      "[0. 0. 1.] (20, 11)\n",
      "[1. 0. 0.] (20, 11)\n",
      "[0. 1. 0.] (20, 11)\n",
      "[1. 0. 0.] (20, 11)\n",
      "[1. 0. 0.] (20, 11)\n",
      "[0. 0. 1.] (20, 11)\n",
      "[1. 0. 0.] (20, 11)\n",
      "[1. 0. 0.] (20, 11)\n",
      "[0. 0. 1.] (20, 11)\n",
      "[1. 0. 0.] (20, 11)\n",
      "[0. 1. 0.] (20, 11)\n",
      "[0. 0. 1.] (20, 11)\n",
      "[0. 1. 0.] (20, 11)\n",
      "[0. 0. 1.] (20, 11)\n",
      "[0. 0. 1.] (20, 11)\n",
      "[0. 0. 1.] (20, 11)\n",
      "[0. 0. 1.] (20, 11)\n",
      "[0. 1. 0.] (20, 11)\n",
      "[0. 1. 0.] (20, 11)\n"
     ]
    }
   ],
   "source": [
    "for sample in data:\n",
    "    word = sample['word_vector'].numpy()\n",
    "    mfcc2= sample['mfcc2'].numpy()\n",
    "    print(word,mfcc2.shape)"
   ]
  }
 ],
 "metadata": {
  "kernelspec": {
   "display_name": "Python 3",
   "language": "python",
   "name": "python3"
  },
  "language_info": {
   "codemirror_mode": {
    "name": "ipython",
    "version": 3
   },
   "file_extension": ".py",
   "mimetype": "text/x-python",
   "name": "python",
   "nbconvert_exporter": "python",
   "pygments_lexer": "ipython3",
   "version": "3.5.2"
  }
 },
 "nbformat": 4,
 "nbformat_minor": 2
}
